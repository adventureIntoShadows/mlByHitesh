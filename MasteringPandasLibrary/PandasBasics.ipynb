{
 "cells": [
  {
   "cell_type": "markdown",
   "id": "40768d4c",
   "metadata": {},
   "source": [
    "# video 1\n",
    "# Pandas Basics"
   ]
  },
  {
   "cell_type": "code",
   "execution_count": 1,
   "id": "9c397bef",
   "metadata": {},
   "outputs": [],
   "source": [
    "import numpy as np\n",
    "import pandas as pd"
   ]
  },
  {
   "cell_type": "markdown",
   "id": "4c45422d",
   "metadata": {},
   "source": [
    "<p> pd.Series()\n",
    "place the cursor between the tags and then press shit + tab to get suggestions </p>"
   ]
  },
  {
   "cell_type": "code",
   "execution_count": 4,
   "id": "8125650b",
   "metadata": {},
   "outputs": [
    {
     "data": {
      "text/plain": [
       "a    1\n",
       "b    2\n",
       "c    3\n",
       "d    4\n",
       "dtype: int64"
      ]
     },
     "execution_count": 4,
     "metadata": {},
     "output_type": "execute_result"
    }
   ],
   "source": [
    "pd.Series(data=[1,2,3,4], index=['a','b','c','d'])"
   ]
  },
  {
   "cell_type": "markdown",
   "id": "ecafe96e",
   "metadata": {},
   "source": [
    "<p> you see how the data is presented above , it is called as Series, now we can also convert a dictionary into a Series </p>"
   ]
  },
  {
   "cell_type": "code",
   "execution_count": 6,
   "id": "976a474b",
   "metadata": {},
   "outputs": [],
   "source": [
    "myDictn = {'e':20, 'f':200, 'g':2000, 'h':15} "
   ]
  },
  {
   "cell_type": "code",
   "execution_count": 7,
   "id": "216dde68",
   "metadata": {},
   "outputs": [
    {
     "data": {
      "text/plain": [
       "{'e': 20, 'f': 200, 'g': 2000, 'h': 15}"
      ]
     },
     "execution_count": 7,
     "metadata": {},
     "output_type": "execute_result"
    }
   ],
   "source": [
    "myDictn"
   ]
  },
  {
   "cell_type": "code",
   "execution_count": 8,
   "id": "91664915",
   "metadata": {},
   "outputs": [
    {
     "data": {
      "text/plain": [
       "e      20\n",
       "f     200\n",
       "g    2000\n",
       "h      15\n",
       "dtype: int64"
      ]
     },
     "execution_count": 8,
     "metadata": {},
     "output_type": "execute_result"
    }
   ],
   "source": [
    "pd.Series(myDictn)"
   ]
  },
  {
   "cell_type": "code",
   "execution_count": 9,
   "id": "95678d61",
   "metadata": {},
   "outputs": [],
   "source": [
    "mySeriesOne = pd.Series([1,2,3,4,5],['a','b','c','d','e'])"
   ]
  },
  {
   "cell_type": "code",
   "execution_count": 10,
   "id": "0d719332",
   "metadata": {},
   "outputs": [
    {
     "data": {
      "text/plain": [
       "a    1\n",
       "b    2\n",
       "c    3\n",
       "d    4\n",
       "e    5\n",
       "dtype: int64"
      ]
     },
     "execution_count": 10,
     "metadata": {},
     "output_type": "execute_result"
    }
   ],
   "source": [
    "mySeriesOne"
   ]
  },
  {
   "cell_type": "code",
   "execution_count": 11,
   "id": "365392e1",
   "metadata": {},
   "outputs": [],
   "source": [
    "mySeriesTwo = pd.Series([1,2,7,4,2],['a','b','c','f','e'])"
   ]
  },
  {
   "cell_type": "code",
   "execution_count": 12,
   "id": "d1aaac55",
   "metadata": {},
   "outputs": [
    {
     "data": {
      "text/plain": [
       "a    1\n",
       "b    2\n",
       "c    7\n",
       "f    4\n",
       "e    2\n",
       "dtype: int64"
      ]
     },
     "execution_count": 12,
     "metadata": {},
     "output_type": "execute_result"
    }
   ],
   "source": [
    "mySeriesTwo"
   ]
  },
  {
   "cell_type": "code",
   "execution_count": 13,
   "id": "9cc559bd",
   "metadata": {},
   "outputs": [
    {
     "data": {
      "text/plain": [
       "a     2.0\n",
       "b     4.0\n",
       "c    10.0\n",
       "d     NaN\n",
       "e     7.0\n",
       "f     NaN\n",
       "dtype: float64"
      ]
     },
     "execution_count": 13,
     "metadata": {},
     "output_type": "execute_result"
    }
   ],
   "source": [
    "mySeriesOne + mySeriesTwo"
   ]
  },
  {
   "cell_type": "code",
   "execution_count": null,
   "id": "e57e3cfa",
   "metadata": {},
   "outputs": [],
   "source": [
    "<p> when index is not matched , then data becomes "
   ]
  }
 ],
 "metadata": {
  "kernelspec": {
   "display_name": "Python 3 (ipykernel)",
   "language": "python",
   "name": "python3"
  },
  "language_info": {
   "codemirror_mode": {
    "name": "ipython",
    "version": 3
   },
   "file_extension": ".py",
   "mimetype": "text/x-python",
   "name": "python",
   "nbconvert_exporter": "python",
   "pygments_lexer": "ipython3",
   "version": "3.11.4"
  }
 },
 "nbformat": 4,
 "nbformat_minor": 5
}
