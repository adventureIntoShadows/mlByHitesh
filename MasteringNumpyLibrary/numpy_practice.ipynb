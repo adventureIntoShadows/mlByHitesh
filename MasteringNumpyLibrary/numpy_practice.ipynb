{
 "cells": [
  {
   "cell_type": "code",
   "execution_count": 1,
   "id": "4a6c7537",
   "metadata": {},
   "outputs": [],
   "source": [
    "import numpy as np"
   ]
  },
  {
   "cell_type": "markdown",
   "id": "4914d671",
   "metadata": {},
   "source": [
    "# lesson on numpy"
   ]
  },
  {
   "cell_type": "code",
   "execution_count": 2,
   "id": "d8a801b8",
   "metadata": {},
   "outputs": [],
   "source": [
    "mylist = [74,14,25,32,52]"
   ]
  },
  {
   "cell_type": "code",
   "execution_count": 3,
   "id": "8410e9e3",
   "metadata": {},
   "outputs": [],
   "source": [
    "import numpy as np"
   ]
  },
  {
   "cell_type": "code",
   "execution_count": 6,
   "id": "97ad2164",
   "metadata": {},
   "outputs": [],
   "source": [
    "myOneDArray = np.array(mylist)"
   ]
  },
  {
   "cell_type": "code",
   "execution_count": 7,
   "id": "9df4b9b4",
   "metadata": {},
   "outputs": [
    {
     "data": {
      "text/plain": [
       "array([74, 14, 25, 32, 52])"
      ]
     },
     "execution_count": 7,
     "metadata": {},
     "output_type": "execute_result"
    }
   ],
   "source": [
    "myOneDArray"
   ]
  },
  {
   "cell_type": "code",
   "execution_count": 11,
   "id": "3446f507",
   "metadata": {},
   "outputs": [],
   "source": [
    "myMultiList = [[14,74,85,312,78],[7,2,145,41,25],[96,12,4,85,32]]"
   ]
  },
  {
   "cell_type": "code",
   "execution_count": 12,
   "id": "c9526293",
   "metadata": {},
   "outputs": [
    {
     "data": {
      "text/plain": [
       "[[14, 74, 85, 312, 78], [7, 2, 145, 41, 25], [96, 12, 4, 85, 32]]"
      ]
     },
     "execution_count": 12,
     "metadata": {},
     "output_type": "execute_result"
    }
   ],
   "source": [
    "myMultiList"
   ]
  },
  {
   "cell_type": "code",
   "execution_count": 13,
   "id": "4bfb6d7e",
   "metadata": {},
   "outputs": [],
   "source": [
    "myTwoDArray = np.array(myMultiList)"
   ]
  },
  {
   "cell_type": "code",
   "execution_count": 14,
   "id": "ce9f5ab1",
   "metadata": {},
   "outputs": [
    {
     "data": {
      "text/plain": [
       "array([[ 14,  74,  85, 312,  78],\n",
       "       [  7,   2, 145,  41,  25],\n",
       "       [ 96,  12,   4,  85,  32]])"
      ]
     },
     "execution_count": 14,
     "metadata": {},
     "output_type": "execute_result"
    }
   ],
   "source": [
    "myTwoDArray"
   ]
  },
  {
   "cell_type": "code",
   "execution_count": 15,
   "id": "7f931d04",
   "metadata": {},
   "outputs": [
    {
     "data": {
      "text/plain": [
       "array([0, 1, 2, 3, 4, 5, 6, 7, 8, 9])"
      ]
     },
     "execution_count": 15,
     "metadata": {},
     "output_type": "execute_result"
    }
   ],
   "source": [
    "np.arange(0,10)"
   ]
  },
  {
   "cell_type": "code",
   "execution_count": 16,
   "id": "240e0369",
   "metadata": {},
   "outputs": [
    {
     "data": {
      "text/plain": [
       "array([ 0,  1,  2,  3,  4,  5,  6,  7,  8,  9, 10, 11, 12, 13, 14, 15, 16,\n",
       "       17, 18, 19, 20, 21, 22, 23, 24, 25, 26, 27, 28, 29, 30, 31, 32, 33,\n",
       "       34, 35, 36, 37, 38, 39, 40, 41, 42, 43, 44, 45, 46, 47, 48, 49, 50,\n",
       "       51, 52, 53, 54, 55, 56, 57, 58, 59, 60, 61, 62, 63, 64, 65, 66, 67,\n",
       "       68, 69, 70, 71, 72, 73, 74, 75, 76, 77, 78, 79, 80, 81, 82, 83, 84,\n",
       "       85, 86, 87, 88, 89, 90, 91, 92, 93, 94, 95, 96, 97, 98, 99])"
      ]
     },
     "execution_count": 16,
     "metadata": {},
     "output_type": "execute_result"
    }
   ],
   "source": [
    "np.arange(0,100)"
   ]
  },
  {
   "cell_type": "code",
   "execution_count": 17,
   "id": "06ed0555",
   "metadata": {},
   "outputs": [
    {
     "data": {
      "text/plain": [
       "array([ 0,  2,  4,  6,  8, 10, 12, 14, 16, 18])"
      ]
     },
     "execution_count": 17,
     "metadata": {},
     "output_type": "execute_result"
    }
   ],
   "source": [
    "np.arange(0,20,2)"
   ]
  },
  {
   "cell_type": "code",
   "execution_count": 18,
   "id": "aebc1ef3",
   "metadata": {},
   "outputs": [
    {
     "data": {
      "text/plain": [
       "array([[0., 0., 0., 0., 0.],\n",
       "       [0., 0., 0., 0., 0.],\n",
       "       [0., 0., 0., 0., 0.],\n",
       "       [0., 0., 0., 0., 0.]])"
      ]
     },
     "execution_count": 18,
     "metadata": {},
     "output_type": "execute_result"
    }
   ],
   "source": [
    "np.zeros((4,5))"
   ]
  },
  {
   "cell_type": "code",
   "execution_count": null,
   "id": "21698e89",
   "metadata": {},
   "outputs": [],
   "source": []
  }
 ],
 "metadata": {
  "kernelspec": {
   "display_name": "Python 3 (ipykernel)",
   "language": "python",
   "name": "python3"
  },
  "language_info": {
   "codemirror_mode": {
    "name": "ipython",
    "version": 3
   },
   "file_extension": ".py",
   "mimetype": "text/x-python",
   "name": "python",
   "nbconvert_exporter": "python",
   "pygments_lexer": "ipython3",
   "version": "3.11.4"
  }
 },
 "nbformat": 4,
 "nbformat_minor": 5
}
