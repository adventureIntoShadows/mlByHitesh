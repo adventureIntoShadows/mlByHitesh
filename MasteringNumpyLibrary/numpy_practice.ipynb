{
 "cells": [
  {
   "cell_type": "code",
   "execution_count": 1,
   "id": "6257103e",
   "metadata": {},
   "outputs": [],
   "source": [
    "import numpy as np"
   ]
  },
  {
   "cell_type": "markdown",
   "id": "661b1d4d",
   "metadata": {},
   "source": [
    "# lesson on numpy"
   ]
  },
  {
   "cell_type": "code",
   "execution_count": 2,
   "id": "165fef06",
   "metadata": {},
   "outputs": [],
   "source": [
    "mylist = [74,14,25,32,52]"
   ]
  },
  {
   "cell_type": "code",
   "execution_count": 3,
   "id": "421fbd84",
   "metadata": {},
   "outputs": [],
   "source": [
    "import numpy as np"
   ]
  },
  {
   "cell_type": "code",
   "execution_count": 6,
   "id": "ceec4c05",
   "metadata": {},
   "outputs": [],
   "source": [
    "myOneDArray = np.array(mylist)"
   ]
  },
  {
   "cell_type": "code",
   "execution_count": 7,
   "id": "e1ace9b7",
   "metadata": {},
   "outputs": [
    {
     "data": {
      "text/plain": [
       "array([74, 14, 25, 32, 52])"
      ]
     },
     "execution_count": 7,
     "metadata": {},
     "output_type": "execute_result"
    }
   ],
   "source": [
    "myOneDArray"
   ]
  },
  {
   "cell_type": "code",
   "execution_count": 11,
   "id": "14d219b8",
   "metadata": {},
   "outputs": [],
   "source": [
    "myMultiList = [[14,74,85,312,78],[7,2,145,41,25],[96,12,4,85,32]]"
   ]
  },
  {
   "cell_type": "code",
   "execution_count": 12,
   "id": "4f8bc600",
   "metadata": {},
   "outputs": [
    {
     "data": {
      "text/plain": [
       "[[14, 74, 85, 312, 78], [7, 2, 145, 41, 25], [96, 12, 4, 85, 32]]"
      ]
     },
     "execution_count": 12,
     "metadata": {},
     "output_type": "execute_result"
    }
   ],
   "source": [
    "myMultiList"
   ]
  },
  {
   "cell_type": "code",
   "execution_count": 13,
   "id": "a42e69a2",
   "metadata": {},
   "outputs": [],
   "source": [
    "myTwoDArray = np.array(myMultiList)"
   ]
  },
  {
   "cell_type": "code",
   "execution_count": 14,
   "id": "bccd83f5",
   "metadata": {},
   "outputs": [
    {
     "data": {
      "text/plain": [
       "array([[ 14,  74,  85, 312,  78],\n",
       "       [  7,   2, 145,  41,  25],\n",
       "       [ 96,  12,   4,  85,  32]])"
      ]
     },
     "execution_count": 14,
     "metadata": {},
     "output_type": "execute_result"
    }
   ],
   "source": [
    "myTwoDArray"
   ]
  },
  {
   "cell_type": "code",
   "execution_count": 15,
   "id": "6bc1ba53",
   "metadata": {},
   "outputs": [
    {
     "data": {
      "text/plain": [
       "array([0, 1, 2, 3, 4, 5, 6, 7, 8, 9])"
      ]
     },
     "execution_count": 15,
     "metadata": {},
     "output_type": "execute_result"
    }
   ],
   "source": [
    "np.arange(0,10)"
   ]
  },
  {
   "cell_type": "code",
   "execution_count": 16,
   "id": "841cf749",
   "metadata": {},
   "outputs": [
    {
     "data": {
      "text/plain": [
       "array([ 0,  1,  2,  3,  4,  5,  6,  7,  8,  9, 10, 11, 12, 13, 14, 15, 16,\n",
       "       17, 18, 19, 20, 21, 22, 23, 24, 25, 26, 27, 28, 29, 30, 31, 32, 33,\n",
       "       34, 35, 36, 37, 38, 39, 40, 41, 42, 43, 44, 45, 46, 47, 48, 49, 50,\n",
       "       51, 52, 53, 54, 55, 56, 57, 58, 59, 60, 61, 62, 63, 64, 65, 66, 67,\n",
       "       68, 69, 70, 71, 72, 73, 74, 75, 76, 77, 78, 79, 80, 81, 82, 83, 84,\n",
       "       85, 86, 87, 88, 89, 90, 91, 92, 93, 94, 95, 96, 97, 98, 99])"
      ]
     },
     "execution_count": 16,
     "metadata": {},
     "output_type": "execute_result"
    }
   ],
   "source": [
    "np.arange(0,100)"
   ]
  },
  {
   "cell_type": "code",
   "execution_count": 17,
   "id": "600f0e5b",
   "metadata": {},
   "outputs": [
    {
     "data": {
      "text/plain": [
       "array([ 0,  2,  4,  6,  8, 10, 12, 14, 16, 18])"
      ]
     },
     "execution_count": 17,
     "metadata": {},
     "output_type": "execute_result"
    }
   ],
   "source": [
    "np.arange(0,20,2)"
   ]
  },
  {
   "cell_type": "code",
   "execution_count": 18,
   "id": "47a824bd",
   "metadata": {},
   "outputs": [
    {
     "data": {
      "text/plain": [
       "array([[0., 0., 0., 0., 0.],\n",
       "       [0., 0., 0., 0., 0.],\n",
       "       [0., 0., 0., 0., 0.],\n",
       "       [0., 0., 0., 0., 0.]])"
      ]
     },
     "execution_count": 18,
     "metadata": {},
     "output_type": "execute_result"
    }
   ],
   "source": [
    "np.zeros((4,5))"
   ]
  },
  {
   "cell_type": "markdown",
   "id": "09fcc8cb",
   "metadata": {},
   "source": [
    "## get a matrix of all one's 3 * 4"
   ]
  },
  {
   "cell_type": "code",
   "execution_count": 19,
   "id": "c24547cd",
   "metadata": {},
   "outputs": [
    {
     "data": {
      "text/plain": [
       "array([[1., 1., 1., 1.],\n",
       "       [1., 1., 1., 1.],\n",
       "       [1., 1., 1., 1.]])"
      ]
     },
     "execution_count": 19,
     "metadata": {},
     "output_type": "execute_result"
    }
   ],
   "source": [
    "np.ones((3,4))"
   ]
  },
  {
   "cell_type": "code",
   "execution_count": 20,
   "id": "d91ee881",
   "metadata": {},
   "outputs": [
    {
     "data": {
      "text/plain": [
       "array([[1, 1, 1, 1],\n",
       "       [1, 1, 1, 1],\n",
       "       [1, 1, 1, 1]])"
      ]
     },
     "execution_count": 20,
     "metadata": {},
     "output_type": "execute_result"
    }
   ],
   "source": [
    "np.ones((3,4),dtype = int)"
   ]
  },
  {
   "cell_type": "code",
   "execution_count": 21,
   "id": "7994fcf1",
   "metadata": {},
   "outputs": [],
   "source": [
    "# https://www.educative.io/answers/what-is-the-numpyzeros-function-in-python"
   ]
  },
  {
   "cell_type": "code",
   "execution_count": 22,
   "id": "f7b827c3",
   "metadata": {},
   "outputs": [
    {
     "data": {
      "text/plain": [
       "array([0.        , 0.35714286, 0.71428571, 1.07142857, 1.42857143,\n",
       "       1.78571429, 2.14285714, 2.5       , 2.85714286, 3.21428571,\n",
       "       3.57142857, 3.92857143, 4.28571429, 4.64285714, 5.        ])"
      ]
     },
     "execution_count": 22,
     "metadata": {},
     "output_type": "execute_result"
    }
   ],
   "source": [
    "np.linspace(0,5,15)"
   ]
  },
  {
   "cell_type": "markdown",
   "id": "1eb98f04",
   "metadata": {},
   "source": [
    "<p> if you plot the above points on a graph they are equally spaced, later we will try it on matplot lib </p>"
   ]
  },
  {
   "cell_type": "code",
   "execution_count": 23,
   "id": "b0bb1641",
   "metadata": {},
   "outputs": [
    {
     "data": {
      "text/plain": [
       "array([[1., 0., 0., 0.],\n",
       "       [0., 1., 0., 0.],\n",
       "       [0., 0., 1., 0.],\n",
       "       [0., 0., 0., 1.]])"
      ]
     },
     "execution_count": 23,
     "metadata": {},
     "output_type": "execute_result"
    }
   ],
   "source": [
    "np.identity(4)"
   ]
  },
  {
   "cell_type": "code",
   "execution_count": 24,
   "id": "3051dcac",
   "metadata": {},
   "outputs": [
    {
     "data": {
      "text/plain": [
       "array([[1, 0, 0, 0],\n",
       "       [0, 1, 0, 0],\n",
       "       [0, 0, 1, 0],\n",
       "       [0, 0, 0, 1]])"
      ]
     },
     "execution_count": 24,
     "metadata": {},
     "output_type": "execute_result"
    }
   ],
   "source": [
    "np.identity(4,dtype = int)"
   ]
  },
  {
   "cell_type": "markdown",
   "id": "441d5098",
   "metadata": {},
   "source": [
    "<p> linear distribution, uniform distribution, normal distribution </p>"
   ]
  },
  {
   "cell_type": "code",
   "execution_count": 25,
   "id": "37f1478d",
   "metadata": {},
   "outputs": [
    {
     "data": {
      "text/plain": [
       "array([0.68661796, 0.44998645, 0.27183691, 0.42133488, 0.64175146])"
      ]
     },
     "execution_count": 25,
     "metadata": {},
     "output_type": "execute_result"
    }
   ],
   "source": [
    "np.random.rand(5)"
   ]
  },
  {
   "cell_type": "markdown",
   "id": "77408ad0",
   "metadata": {},
   "source": [
    "<p> this is uniform distribution </p>"
   ]
  },
  {
   "cell_type": "code",
   "execution_count": 26,
   "id": "8675b4dd",
   "metadata": {},
   "outputs": [
    {
     "data": {
      "text/plain": [
       "array([[0.02113862, 0.15553714, 0.33649455, 0.31281308, 0.16707649],\n",
       "       [0.86967557, 0.82113325, 0.46809807, 0.51202519, 0.65023205],\n",
       "       [0.1708    , 0.29715055, 0.19521852, 0.66606411, 0.22571693],\n",
       "       [0.09723844, 0.35833561, 0.85118936, 0.16527573, 0.30978842],\n",
       "       [0.97847237, 0.88084721, 0.64547636, 0.90396371, 0.32746633]])"
      ]
     },
     "execution_count": 26,
     "metadata": {},
     "output_type": "execute_result"
    }
   ],
   "source": [
    "np.random.rand(5,5)"
   ]
  },
  {
   "cell_type": "code",
   "execution_count": 27,
   "id": "b7bcc08b",
   "metadata": {},
   "outputs": [
    {
     "data": {
      "text/plain": [
       "array([-0.44949997,  0.43007841,  1.74038104,  1.05183319, -0.8604015 ])"
      ]
     },
     "execution_count": 27,
     "metadata": {},
     "output_type": "execute_result"
    }
   ],
   "source": [
    "np.random.randn(5)"
   ]
  },
  {
   "cell_type": "markdown",
   "id": "290466ea",
   "metadata": {},
   "source": [
    "<p> this is normal distribution </p>"
   ]
  },
  {
   "cell_type": "code",
   "execution_count": 28,
   "id": "fa8b354f",
   "metadata": {},
   "outputs": [
    {
     "data": {
      "text/plain": [
       "array([[-0.59305498, -0.7993119 ,  0.15599137, -0.72016029, -1.39769086],\n",
       "       [ 0.40374503, -0.53479443,  0.58340627,  0.19969145, -1.42407011],\n",
       "       [-1.65731469,  0.5786467 , -1.93142751,  0.3643592 ,  0.71935129],\n",
       "       [-1.05162284, -0.22497038, -0.01350736,  1.09119599,  0.12434489],\n",
       "       [ 0.93052809, -1.60174549,  2.53857207,  0.95544828,  2.47814521]])"
      ]
     },
     "execution_count": 28,
     "metadata": {},
     "output_type": "execute_result"
    }
   ],
   "source": [
    "np.random.randn(5,5)"
   ]
  },
  {
   "cell_type": "code",
   "execution_count": 29,
   "id": "74de7688",
   "metadata": {},
   "outputs": [
    {
     "data": {
      "text/plain": [
       "29"
      ]
     },
     "execution_count": 29,
     "metadata": {},
     "output_type": "execute_result"
    }
   ],
   "source": [
    "np.random.randint(1,50)"
   ]
  },
  {
   "cell_type": "code",
   "execution_count": 30,
   "id": "2b5d8e45",
   "metadata": {},
   "outputs": [
    {
     "data": {
      "text/plain": [
       "10"
      ]
     },
     "execution_count": 30,
     "metadata": {},
     "output_type": "execute_result"
    }
   ],
   "source": [
    "np.random.randint(1,50)"
   ]
  },
  {
   "cell_type": "markdown",
   "id": "a8af05d1",
   "metadata": {},
   "source": [
    "<p> get one random integer between this range </p>"
   ]
  },
  {
   "cell_type": "code",
   "execution_count": 31,
   "id": "1fbd3231",
   "metadata": {},
   "outputs": [],
   "source": [
    "myNum = np.arange(25)"
   ]
  },
  {
   "cell_type": "code",
   "execution_count": 32,
   "id": "59bc9128",
   "metadata": {},
   "outputs": [
    {
     "data": {
      "text/plain": [
       "array([ 0,  1,  2,  3,  4,  5,  6,  7,  8,  9, 10, 11, 12, 13, 14, 15, 16,\n",
       "       17, 18, 19, 20, 21, 22, 23, 24])"
      ]
     },
     "execution_count": 32,
     "metadata": {},
     "output_type": "execute_result"
    }
   ],
   "source": [
    "myNum"
   ]
  },
  {
   "cell_type": "markdown",
   "id": "7cfc0c52",
   "metadata": {},
   "source": [
    "<p> you would get a list upto the range 25 </p>"
   ]
  },
  {
   "cell_type": "markdown",
   "id": "75bc86e9",
   "metadata": {},
   "source": [
    "<p> now if i want to reshape the list into a 2-D array, how would i do it </p>"
   ]
  },
  {
   "cell_type": "code",
   "execution_count": 37,
   "id": "ca033367",
   "metadata": {},
   "outputs": [],
   "source": [
    "myReshape = myNum.reshape(5,5)"
   ]
  },
  {
   "cell_type": "code",
   "execution_count": 38,
   "id": "fdb40983",
   "metadata": {},
   "outputs": [
    {
     "data": {
      "text/plain": [
       "array([[ 0,  1,  2,  3,  4],\n",
       "       [ 5,  6,  7,  8,  9],\n",
       "       [10, 11, 12, 13, 14],\n",
       "       [15, 16, 17, 18, 19],\n",
       "       [20, 21, 22, 23, 24]])"
      ]
     },
     "execution_count": 38,
     "metadata": {},
     "output_type": "execute_result"
    }
   ],
   "source": [
    "myReshape"
   ]
  },
  {
   "cell_type": "code",
   "execution_count": 40,
   "id": "79aa1fb9",
   "metadata": {},
   "outputs": [
    {
     "ename": "ValueError",
     "evalue": "cannot reshape array of size 25 into shape (4,4)",
     "output_type": "error",
     "traceback": [
      "\u001b[1;31m---------------------------------------------------------------------------\u001b[0m",
      "\u001b[1;31mValueError\u001b[0m                                Traceback (most recent call last)",
      "Cell \u001b[1;32mIn[40], line 1\u001b[0m\n\u001b[1;32m----> 1\u001b[0m myNum\u001b[38;5;241m.\u001b[39mreshape(\u001b[38;5;241m4\u001b[39m,\u001b[38;5;241m4\u001b[39m)\n",
      "\u001b[1;31mValueError\u001b[0m: cannot reshape array of size 25 into shape (4,4)"
     ]
    }
   ],
   "source": [
    "myNum.reshape(4,4)"
   ]
  },
  {
   "cell_type": "markdown",
   "id": "e60c4bd6",
   "metadata": {},
   "source": [
    "<p> because 4 * 4 is not equal to 25 </p>"
   ]
  },
  {
   "cell_type": "code",
   "execution_count": 41,
   "id": "249a2017",
   "metadata": {},
   "outputs": [
    {
     "ename": "ValueError",
     "evalue": "cannot reshape array of size 25 into shape (6,6)",
     "output_type": "error",
     "traceback": [
      "\u001b[1;31m---------------------------------------------------------------------------\u001b[0m",
      "\u001b[1;31mValueError\u001b[0m                                Traceback (most recent call last)",
      "Cell \u001b[1;32mIn[41], line 1\u001b[0m\n\u001b[1;32m----> 1\u001b[0m myNum\u001b[38;5;241m.\u001b[39mreshape(\u001b[38;5;241m6\u001b[39m,\u001b[38;5;241m6\u001b[39m)\n",
      "\u001b[1;31mValueError\u001b[0m: cannot reshape array of size 25 into shape (6,6)"
     ]
    }
   ],
   "source": [
    "myNum.reshape(6,6)"
   ]
  },
  {
   "cell_type": "code",
   "execution_count": 42,
   "id": "6e5084ae",
   "metadata": {},
   "outputs": [
    {
     "data": {
      "text/plain": [
       "dtype('int32')"
      ]
     },
     "execution_count": 42,
     "metadata": {},
     "output_type": "execute_result"
    }
   ],
   "source": [
    "myNum.dtype"
   ]
  },
  {
   "cell_type": "code",
   "execution_count": 43,
   "id": "7a88542e",
   "metadata": {},
   "outputs": [
    {
     "data": {
      "text/plain": [
       "'C:\\\\Users\\\\akhil'"
      ]
     },
     "execution_count": 43,
     "metadata": {},
     "output_type": "execute_result"
    }
   ],
   "source": [
    "pwd"
   ]
  },
  {
   "cell_type": "markdown",
   "id": "c981f779",
   "metadata": {},
   "source": [
    "##gives you present working directory"
   ]
  },
  {
   "cell_type": "code",
   "execution_count": null,
   "id": "8cb432bb",
   "metadata": {},
   "outputs": [],
   "source": []
  }
 ],
 "metadata": {
  "kernelspec": {
   "display_name": "Python 3 (ipykernel)",
   "language": "python",
   "name": "python3"
  },
  "language_info": {
   "codemirror_mode": {
    "name": "ipython",
    "version": 3
   },
   "file_extension": ".py",
   "mimetype": "text/x-python",
   "name": "python",
   "nbconvert_exporter": "python",
   "pygments_lexer": "ipython3",
   "version": "3.11.4"
  }
 },
 "nbformat": 4,
 "nbformat_minor": 5
}
