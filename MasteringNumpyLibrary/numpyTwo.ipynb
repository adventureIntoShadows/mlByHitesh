{
 "cells": [
  {
   "cell_type": "markdown",
   "id": "7cb899a5",
   "metadata": {},
   "source": [
    "## interdemediate stuff with numpy"
   ]
  },
  {
   "cell_type": "code",
   "execution_count": 1,
   "id": "dae0f0d4",
   "metadata": {},
   "outputs": [],
   "source": [
    "import numpy as np"
   ]
  },
  {
   "cell_type": "code",
   "execution_count": 2,
   "id": "ad7f0cdb",
   "metadata": {},
   "outputs": [],
   "source": [
    "myArray = np.arange(10,21)"
   ]
  },
  {
   "cell_type": "code",
   "execution_count": 3,
   "id": "930892d5",
   "metadata": {},
   "outputs": [
    {
     "data": {
      "text/plain": [
       "array([10, 11, 12, 13, 14, 15, 16, 17, 18, 19, 20])"
      ]
     },
     "execution_count": 3,
     "metadata": {},
     "output_type": "execute_result"
    }
   ],
   "source": [
    "myArray"
   ]
  },
  {
   "cell_type": "code",
   "execution_count": 4,
   "id": "0963f43e",
   "metadata": {},
   "outputs": [
    {
     "data": {
      "text/plain": [
       "10"
      ]
     },
     "execution_count": 4,
     "metadata": {},
     "output_type": "execute_result"
    }
   ],
   "source": [
    "myArray[0]"
   ]
  },
  {
   "cell_type": "code",
   "execution_count": 5,
   "id": "d39e602c",
   "metadata": {},
   "outputs": [
    {
     "data": {
      "text/plain": [
       "array([11, 12, 13])"
      ]
     },
     "execution_count": 5,
     "metadata": {},
     "output_type": "execute_result"
    }
   ],
   "source": [
    "myArray[1:4]"
   ]
  },
  {
   "cell_type": "code",
   "execution_count": 6,
   "id": "4cd74637",
   "metadata": {},
   "outputs": [
    {
     "data": {
      "text/plain": [
       "array([10, 11, 12, 13])"
      ]
     },
     "execution_count": 6,
     "metadata": {},
     "output_type": "execute_result"
    }
   ],
   "source": [
    "myArray[:4]"
   ]
  },
  {
   "cell_type": "code",
   "execution_count": 7,
   "id": "6656b4d8",
   "metadata": {},
   "outputs": [
    {
     "data": {
      "text/plain": [
       "array([14, 15, 16, 17, 18, 19, 20])"
      ]
     },
     "execution_count": 7,
     "metadata": {},
     "output_type": "execute_result"
    }
   ],
   "source": [
    "myArray[4:]"
   ]
  },
  {
   "cell_type": "code",
   "execution_count": 8,
   "id": "ddfe4fb3",
   "metadata": {},
   "outputs": [],
   "source": [
    "partArray = myArray[:4]"
   ]
  },
  {
   "cell_type": "code",
   "execution_count": 9,
   "id": "e28905a5",
   "metadata": {},
   "outputs": [
    {
     "data": {
      "text/plain": [
       "array([10, 11, 12, 13])"
      ]
     },
     "execution_count": 9,
     "metadata": {},
     "output_type": "execute_result"
    }
   ],
   "source": [
    "partArray"
   ]
  },
  {
   "cell_type": "code",
   "execution_count": 10,
   "id": "3d624528",
   "metadata": {},
   "outputs": [],
   "source": [
    "partArray[:] = 50"
   ]
  },
  {
   "cell_type": "code",
   "execution_count": 11,
   "id": "1a4a7862",
   "metadata": {},
   "outputs": [
    {
     "data": {
      "text/plain": [
       "array([50, 50, 50, 50])"
      ]
     },
     "execution_count": 11,
     "metadata": {},
     "output_type": "execute_result"
    }
   ],
   "source": [
    "partArray"
   ]
  },
  {
   "cell_type": "markdown",
   "id": "deda8454",
   "metadata": {},
   "source": [
    "<p> all array elements become same element </p>"
   ]
  },
  {
   "cell_type": "code",
   "execution_count": 12,
   "id": "336d6aea",
   "metadata": {},
   "outputs": [
    {
     "data": {
      "text/plain": [
       "array([50, 50, 50, 50, 14, 15, 16, 17, 18, 19, 20])"
      ]
     },
     "execution_count": 12,
     "metadata": {},
     "output_type": "execute_result"
    }
   ],
   "source": [
    "myArray"
   ]
  },
  {
   "cell_type": "markdown",
   "id": "b7e8f5db",
   "metadata": {},
   "source": [
    "<p> how come myArray also changed </p>"
   ]
  },
  {
   "cell_type": "markdown",
   "id": "2d53faf0",
   "metadata": {},
   "source": [
    "<p> numpy does not send a copy, it is directly effected to save memory </p>"
   ]
  },
  {
   "cell_type": "markdown",
   "id": "40e9ea4e",
   "metadata": {},
   "source": [
    "<p> numpy is not sending the copy of this array, it is directly sending the reference of the array, so any changes made to this variable , effects the original array, since we got a reference </p>"
   ]
  },
  {
   "cell_type": "code",
   "execution_count": 16,
   "id": "57924ea0",
   "metadata": {},
   "outputs": [],
   "source": [
    "copyArray = myArray.copy()"
   ]
  },
  {
   "cell_type": "code",
   "execution_count": 17,
   "id": "386437db",
   "metadata": {},
   "outputs": [
    {
     "data": {
      "text/plain": [
       "array([50, 50, 50, 50, 14, 15, 16, 17, 18, 19, 20])"
      ]
     },
     "execution_count": 17,
     "metadata": {},
     "output_type": "execute_result"
    }
   ],
   "source": [
    "copyArray"
   ]
  },
  {
   "cell_type": "code",
   "execution_count": 18,
   "id": "ee7c21fd",
   "metadata": {},
   "outputs": [],
   "source": [
    "copyArray[:] = 32"
   ]
  },
  {
   "cell_type": "code",
   "execution_count": 19,
   "id": "667332a6",
   "metadata": {},
   "outputs": [
    {
     "data": {
      "text/plain": [
       "array([32, 32, 32, 32, 32, 32, 32, 32, 32, 32, 32])"
      ]
     },
     "execution_count": 19,
     "metadata": {},
     "output_type": "execute_result"
    }
   ],
   "source": [
    "copyArray"
   ]
  },
  {
   "cell_type": "code",
   "execution_count": 20,
   "id": "65f4f559",
   "metadata": {},
   "outputs": [
    {
     "data": {
      "text/plain": [
       "array([50, 50, 50, 50, 14, 15, 16, 17, 18, 19, 20])"
      ]
     },
     "execution_count": 20,
     "metadata": {},
     "output_type": "execute_result"
    }
   ],
   "source": [
    "myArray"
   ]
  },
  {
   "cell_type": "markdown",
   "id": "7dba79af",
   "metadata": {},
   "source": [
    "## video 2 numpy 2D selection"
   ]
  },
  {
   "cell_type": "code",
   "execution_count": 22,
   "id": "2b3bae67",
   "metadata": {},
   "outputs": [],
   "source": [
    "myTwoDarray = np.array([[1,2,3],[4,5,6],[7,8,9]])"
   ]
  },
  {
   "cell_type": "code",
   "execution_count": 23,
   "id": "dab91dde",
   "metadata": {},
   "outputs": [
    {
     "data": {
      "text/plain": [
       "array([[1, 2, 3],\n",
       "       [4, 5, 6],\n",
       "       [7, 8, 9]])"
      ]
     },
     "execution_count": 23,
     "metadata": {},
     "output_type": "execute_result"
    }
   ],
   "source": [
    "myTwoDarray"
   ]
  },
  {
   "cell_type": "code",
   "execution_count": 24,
   "id": "b8f15a1f",
   "metadata": {},
   "outputs": [
    {
     "data": {
      "text/plain": [
       "8"
      ]
     },
     "execution_count": 24,
     "metadata": {},
     "output_type": "execute_result"
    }
   ],
   "source": [
    "myTwoDarray[2][1]"
   ]
  },
  {
   "cell_type": "code",
   "execution_count": 25,
   "id": "68c86201",
   "metadata": {},
   "outputs": [
    {
     "data": {
      "text/plain": [
       "8"
      ]
     },
     "execution_count": 25,
     "metadata": {},
     "output_type": "execute_result"
    }
   ],
   "source": [
    "myTwoDarray[2,1]"
   ]
  },
  {
   "cell_type": "code",
   "execution_count": 26,
   "id": "87640033",
   "metadata": {},
   "outputs": [
    {
     "data": {
      "text/plain": [
       "array([7, 8, 9])"
      ]
     },
     "execution_count": 26,
     "metadata": {},
     "output_type": "execute_result"
    }
   ],
   "source": [
    "myTwoDarray[2]"
   ]
  },
  {
   "cell_type": "markdown",
   "id": "0829d408",
   "metadata": {},
   "source": [
    "<p> slicing of matrix or sub-matrix </p>"
   ]
  },
  {
   "cell_type": "code",
   "execution_count": 27,
   "id": "da782d8a",
   "metadata": {},
   "outputs": [
    {
     "data": {
      "text/plain": [
       "array([[2, 3],\n",
       "       [5, 6]])"
      ]
     },
     "execution_count": 27,
     "metadata": {},
     "output_type": "execute_result"
    }
   ],
   "source": [
    "myTwoDarray[:2,1:]"
   ]
  },
  {
   "cell_type": "markdown",
   "id": "101a809a",
   "metadata": {},
   "source": [
    "<p> :2 from starting row to 2nd row, and then , 1: , from 1st column to last column </p>"
   ]
  },
  {
   "cell_type": "code",
   "execution_count": 28,
   "id": "0444529f",
   "metadata": {},
   "outputs": [
    {
     "data": {
      "text/plain": [
       "array([[1]])"
      ]
     },
     "execution_count": 28,
     "metadata": {},
     "output_type": "execute_result"
    }
   ],
   "source": [
    "myTwoDarray[:1,:1]"
   ]
  },
  {
   "cell_type": "code",
   "execution_count": 29,
   "id": "d3bf4c6a",
   "metadata": {},
   "outputs": [
    {
     "data": {
      "text/plain": [
       "array([[2, 3],\n",
       "       [5, 6]])"
      ]
     },
     "execution_count": 29,
     "metadata": {},
     "output_type": "execute_result"
    }
   ],
   "source": [
    "myTwoDarray[:2,1:3]"
   ]
  },
  {
   "cell_type": "code",
   "execution_count": 30,
   "id": "1be358c6",
   "metadata": {},
   "outputs": [
    {
     "data": {
      "text/plain": [
       "array([[1, 2],\n",
       "       [4, 5]])"
      ]
     },
     "execution_count": 30,
     "metadata": {},
     "output_type": "execute_result"
    }
   ],
   "source": [
    "myTwoDarray[:2,:2]"
   ]
  },
  {
   "cell_type": "markdown",
   "id": "cff36bee",
   "metadata": {},
   "source": [
    "<p> 0th row to 1st row and 0th column to 2nd column </p>"
   ]
  },
  {
   "cell_type": "code",
   "execution_count": 33,
   "id": "9e6babfa",
   "metadata": {},
   "outputs": [
    {
     "data": {
      "text/plain": [
       "array([[4, 5],\n",
       "       [7, 8]])"
      ]
     },
     "execution_count": 33,
     "metadata": {},
     "output_type": "execute_result"
    }
   ],
   "source": [
    "myTwoDarray[1:3,:2]"
   ]
  },
  {
   "cell_type": "markdown",
   "id": "fd159024",
   "metadata": {},
   "source": [
    "<p> from 1st row to 2nd row and then from 0th column to 1st column </p>"
   ]
  },
  {
   "cell_type": "code",
   "execution_count": 34,
   "id": "a0c5c114",
   "metadata": {},
   "outputs": [
    {
     "data": {
      "text/plain": [
       "array([[5, 6],\n",
       "       [8, 9]])"
      ]
     },
     "execution_count": 34,
     "metadata": {},
     "output_type": "execute_result"
    }
   ],
   "source": [
    "myTwoDarray[1:3,1:3]"
   ]
  },
  {
   "cell_type": "code",
   "execution_count": null,
   "id": "11b9c023",
   "metadata": {},
   "outputs": [],
   "source": []
  },
  {
   "cell_type": "markdown",
   "id": "a50a25ae",
   "metadata": {},
   "source": [
    "## video 3 Numpy conditional returns"
   ]
  },
  {
   "cell_type": "code",
   "execution_count": 35,
   "id": "6aabeb27",
   "metadata": {},
   "outputs": [],
   "source": [
    "newArray = np.arange(2,20)"
   ]
  },
  {
   "cell_type": "code",
   "execution_count": 36,
   "id": "38fb07a4",
   "metadata": {},
   "outputs": [
    {
     "data": {
      "text/plain": [
       "array([ 2,  3,  4,  5,  6,  7,  8,  9, 10, 11, 12, 13, 14, 15, 16, 17, 18,\n",
       "       19])"
      ]
     },
     "execution_count": 36,
     "metadata": {},
     "output_type": "execute_result"
    }
   ],
   "source": [
    "newArray"
   ]
  },
  {
   "cell_type": "code",
   "execution_count": 37,
   "id": "f6c3c99d",
   "metadata": {},
   "outputs": [
    {
     "data": {
      "text/plain": [
       "array([11, 12, 13, 14, 15, 16, 17, 18, 19])"
      ]
     },
     "execution_count": 37,
     "metadata": {},
     "output_type": "execute_result"
    }
   ],
   "source": [
    "newArray[newArray > 10]"
   ]
  },
  {
   "cell_type": "markdown",
   "id": "271c5c81",
   "metadata": {},
   "source": [
    "<p> gives me sub-list that is greater than 10 </p>"
   ]
  },
  {
   "cell_type": "code",
   "execution_count": 39,
   "id": "36b1653e",
   "metadata": {},
   "outputs": [
    {
     "data": {
      "text/plain": [
       "array([False, False, False, False, False, False, False, False, False,\n",
       "        True,  True,  True,  True,  True,  True,  True,  True,  True])"
      ]
     },
     "execution_count": 39,
     "metadata": {},
     "output_type": "execute_result"
    }
   ],
   "source": [
    "newArray > 10"
   ]
  },
  {
   "cell_type": "markdown",
   "id": "9a6567f2",
   "metadata": {},
   "source": [
    "<p> in our array which values are greater than 10, gives us result in boolean form </p>"
   ]
  },
  {
   "cell_type": "code",
   "execution_count": 40,
   "id": "29f0b75b",
   "metadata": {},
   "outputs": [
    {
     "data": {
      "text/plain": [
       "array([2, 3, 4, 5, 6, 7, 8, 9])"
      ]
     },
     "execution_count": 40,
     "metadata": {},
     "output_type": "execute_result"
    }
   ],
   "source": [
    "newArray[newArray < 10]"
   ]
  },
  {
   "cell_type": "code",
   "execution_count": null,
   "id": "8f4d438a",
   "metadata": {},
   "outputs": [],
   "source": []
  },
  {
   "cell_type": "markdown",
   "id": "5285a446",
   "metadata": {},
   "source": [
    "## video4 mean deviation , 2c dot and cross products"
   ]
  },
  {
   "cell_type": "code",
   "execution_count": 41,
   "id": "17bb0ff4",
   "metadata": {},
   "outputs": [
    {
     "data": {
      "text/plain": [
       "array([ 4,  6,  8, 10, 12, 14, 16, 18, 20, 22, 24, 26, 28, 30, 32, 34, 36,\n",
       "       38])"
      ]
     },
     "execution_count": 41,
     "metadata": {},
     "output_type": "execute_result"
    }
   ],
   "source": [
    "newArray * 2"
   ]
  },
  {
   "cell_type": "markdown",
   "id": "dd006e3d",
   "metadata": {},
   "source": [
    "<p> multiplying all array elements by 2 </p>"
   ]
  },
  {
   "cell_type": "code",
   "execution_count": 42,
   "id": "ecacbb63",
   "metadata": {},
   "outputs": [
    {
     "data": {
      "text/plain": [
       "array([ 4,  6,  8, 10, 12, 14, 16, 18, 20, 22, 24, 26, 28, 30, 32, 34, 36,\n",
       "       38])"
      ]
     },
     "execution_count": 42,
     "metadata": {},
     "output_type": "execute_result"
    }
   ],
   "source": [
    "newArray + newArray"
   ]
  },
  {
   "cell_type": "markdown",
   "id": "8eea679b",
   "metadata": {},
   "source": [
    "<p> adding array elements with array elements from another array </p>"
   ]
  },
  {
   "cell_type": "code",
   "execution_count": 43,
   "id": "067d17e7",
   "metadata": {},
   "outputs": [
    {
     "data": {
      "text/plain": [
       "array([1.41421356, 1.73205081, 2.        , 2.23606798, 2.44948974,\n",
       "       2.64575131, 2.82842712, 3.        , 3.16227766, 3.31662479,\n",
       "       3.46410162, 3.60555128, 3.74165739, 3.87298335, 4.        ,\n",
       "       4.12310563, 4.24264069, 4.35889894])"
      ]
     },
     "execution_count": 43,
     "metadata": {},
     "output_type": "execute_result"
    }
   ],
   "source": [
    "np.sqrt(newArray)"
   ]
  },
  {
   "cell_type": "markdown",
   "id": "92bdf5f4",
   "metadata": {},
   "source": [
    "<p> performing square root on all array elements </p>"
   ]
  },
  {
   "cell_type": "code",
   "execution_count": null,
   "id": "cd743cd5",
   "metadata": {},
   "outputs": [],
   "source": []
  }
 ],
 "metadata": {
  "kernelspec": {
   "display_name": "Python 3 (ipykernel)",
   "language": "python",
   "name": "python3"
  },
  "language_info": {
   "codemirror_mode": {
    "name": "ipython",
    "version": 3
   },
   "file_extension": ".py",
   "mimetype": "text/x-python",
   "name": "python",
   "nbconvert_exporter": "python",
   "pygments_lexer": "ipython3",
   "version": "3.11.4"
  }
 },
 "nbformat": 4,
 "nbformat_minor": 5
}
